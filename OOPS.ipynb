{
 "cells": [
  {
   "cell_type": "code",
   "execution_count": null,
   "id": "757c6071-674c-40e6-b11b-894cf4ffa913",
   "metadata": {},
   "outputs": [],
   "source": [
    "'''\n",
    "Q-1> What is Object-Oriented Programming (OOP) ?\n",
    "Sol:\n",
    "OOP concept is based on the concept of objects. Objects are instances of classes, which encapsulate data and behavior. \n",
    "OOP helps in structuring programs in a way that makes them modular, reusable.\n",
    "Key Concepts of OOP are as follows:\n",
    "1.Class\n",
    "2.Object\n",
    "3.Encapsulation\n",
    "4.Abstraction\n",
    "5.Inheritance\n",
    "6.Polymorphism\n",
    "Benefits of OOP:\n",
    "1. Code Reusability\n",
    "2.Modularity\n",
    "3.Scalability\n",
    "4.Data Security\n",
    "'''"
   ]
  },
  {
   "cell_type": "code",
   "execution_count": 7,
   "id": "c8b5ffd2-c74e-4e46-98d5-1382d129db6f",
   "metadata": {},
   "outputs": [
    {
     "name": "stdout",
     "output_type": "stream",
     "text": [
      "Employee Name: BOB\n",
      "Phone Number: 84874321\n",
      "Date of Birth: 01-01-1990\n"
     ]
    }
   ],
   "source": [
    "'''\n",
    "Q-2> What is a class in OOP ?\n",
    "Sol:\n",
    " It is a blueprint or template for creating objects. It defines the attributes (data) and methods (functions) that describe the behavior of the \n",
    " objects created from it.\n",
    "Ex:\n",
    "'''\n",
    "class Employee:\n",
    "    def __init__(self,Ph_no,Name,Dob):\n",
    "        self.Ph_no = Ph_no  \n",
    "        self.Name = Name  \n",
    "        self.DOB = Dob    \n",
    "    def display(self):    \n",
    "        print(f\"Employee Name: {self.Name}\")\n",
    "        print(f\"Phone Number: {self.Ph_no}\")\n",
    "        print(f\"Date of Birth: {self.DOB}\")\n",
    "emp1 = Employee(\"84874321\",\"BOB\",\"01-01-1990\")\n",
    "emp1.display()\n",
    "'''\n",
    "Key Components  :\n",
    "1.Attributes \n",
    "2.Methods\n",
    "3.Constructor\n",
    "4.Objects\n",
    "'''"
   ]
  },
  {
   "cell_type": "code",
   "execution_count": null,
   "id": "e351bdc9-03e0-4986-ba2d-85dc614012e9",
   "metadata": {},
   "outputs": [],
   "source": [
    "'''\n",
    "Q-3> What is an object in OOP ?\n",
    "Sol:\n",
    "It is an instance of a class. It represents a real-world entity and has:\n",
    "1.Attributes \n",
    "2.Methods\n",
    "ex:\n",
    "class Employee:\n",
    "    def __init__(self,Ph_no,Name,Dob):\n",
    "        self.Ph_no = Ph_no  \n",
    "        self.Name = Name  \n",
    "        self.DOB = Dob    \n",
    "    def display(self):    \n",
    "        print(f\"Employee Name: {self.Name}\")\n",
    "        print(f\"Phone Number: {self.Ph_no}\")\n",
    "        print(f\"Date of Birth: {self.DOB}\")\n",
    "emp1 = Employee(\"84874321\",\"BOB\",\"01-01-1990\")\n",
    "emp1.display()\n",
    "\n",
    "In this above code: \n",
    "Object: Ph_no,Name,Dob\n",
    "Class: Employee\n",
    "Behiviour : display\n",
    "'''"
   ]
  },
  {
   "cell_type": "code",
   "execution_count": 27,
   "id": "fad456b5-0043-4359-8a13-867dac3c8595",
   "metadata": {},
   "outputs": [
    {
     "name": "stdout",
     "output_type": "stream",
     "text": [
      "abstraction\n",
      "\n",
      "\n",
      "BHEL\n",
      "Civil\n",
      "Manager\n",
      "0132\n",
      "\n",
      "\n",
      "encapsulation\n",
      "\n",
      "\n",
      "BHEL\n",
      "Civil\n",
      "CIV3294\n",
      "Manager\n",
      "0132\n",
      "MANG0984\n"
     ]
    }
   ],
   "source": [
    "'''\n",
    "Q-4 What is the difference between abstraction and encapsulation ?\n",
    "Sol:\n",
    "abstraction :\n",
    "1.Hides implementation details and shows only the necessary features.\n",
    "2.Achieved using abstract classes and interfaces.\n",
    "3.Does not restrict direct access; only hides unnecessary details.\n",
    "encapsulation:\n",
    "1.Restricts direct access to certain data to protect integrity.\n",
    "2.Focuses on how data is stored and accessed securely.\n",
    "3.Restricts direct access to data by keeping it private.\n",
    "Ex:\n",
    "'''\n",
    "# abstraction\n",
    "print(\"abstraction\")\n",
    "print('\\n')\n",
    "from abc import ABC, abstractmethod\n",
    "class Emp(ABC):  \n",
    "    @abstractmethod\n",
    "    def Dept(self):\n",
    "        pass  \n",
    "class Company(Emp):\n",
    "    def Dept(self):  \n",
    "        return \"Civil\"\n",
    "    def name(self):\n",
    "        return \"BHEL\"\n",
    "class Designation(Emp):  \n",
    "    def Dept(self):  \n",
    "        return \"0132\"\n",
    "    def name(self):\n",
    "        return \"Manager\"\n",
    "company = Company()\n",
    "designation = Designation()\n",
    "print(company.name())  \n",
    "print(company.Dept())  \n",
    "print(designation.name())  \n",
    "print(designation.Dept())  \n",
    "print('\\n')\n",
    "# encapsulation\n",
    "print(\"encapsulation\")\n",
    "print('\\n')\n",
    "from abc import ABC, abstractmethod\n",
    "class Emp(ABC):  \n",
    "    def __init__(self, dept_code):\n",
    "        self.__dept_code = dept_code  \n",
    "    @abstractmethod\n",
    "    def Dept(self):\n",
    "        pass  \n",
    "    def get_dept_code(self):  \n",
    "        return self.__dept_code\n",
    "class Company(Emp):\n",
    "    def __init__(self, name, dept_code):\n",
    "        super().__init__(dept_code)\n",
    "        self.__name = name  \n",
    "    def Dept(self):  \n",
    "        return \"Civil\"\n",
    "    def get_name(self):  \n",
    "        return self.__name\n",
    "class Designation(Emp):  \n",
    "    def __init__(self, title, dept_code):\n",
    "        super().__init__(dept_code)\n",
    "        self.__title = title  \n",
    "    def Dept(self):  \n",
    "        return \"0132\"\n",
    "    def get_title(self):  \n",
    "        return self.__title\n",
    "company = Company(\"BHEL\", \"CIV3294\")\n",
    "designation = Designation(\"Manager\", \"MANG0984\")\n",
    "print(company.get_name())      \n",
    "print(company.Dept())          \n",
    "print(company.get_dept_code()) \n",
    "print(designation.get_title())     \n",
    "print(designation.Dept())          \n",
    "print(designation.get_dept_code()) \n",
    "\n",
    "\n"
   ]
  },
  {
   "cell_type": "code",
   "execution_count": null,
   "id": "00fdea50-6fa6-4e33-81b9-b0cd6a860765",
   "metadata": {},
   "outputs": [],
   "source": [
    "'''\n",
    "Q-5> What are dunder methods in Python ?\n",
    "Sol:\n",
    "Dunder methods (short for “double underscore” methods) are special methods in Python that begin and end with double underscores (__). \n",
    "They allow customizing class behavior and enable features like operator overloading.\n",
    "Ex:\n",
    "Common Dunder Methods:\n",
    "1. __init__\n",
    "2. __str__\n",
    "3. __repr__\n",
    "Operator Overloading with Dunder Methods:\n",
    "1. __len__\n",
    "2. __getitem__\n",
    "3. __setitem__\n",
    "4. __delitem__\n",
    "Calling and Context Management:\n",
    "1. __call__\n",
    "2. __enter__ / __exit__\n",
    "'''"
   ]
  },
  {
   "cell_type": "code",
   "execution_count": null,
   "id": "cd812146-aed8-4f1c-b013-1aa9a1b3eb52",
   "metadata": {},
   "outputs": [],
   "source": [
    "'''\n",
    "Q-6>  Explain the concept of inheritance in OOP ?\n",
    "Sol: \n",
    "It allows a class (child) to acquire properties and behaviors (methods and attributes) from another class (parent).\n",
    "Advantage:\n",
    "1. Code Reusability\n",
    "2. Extensibility\n",
    "3. Maintainability\n",
    "Types:\n",
    "1. Single Inheritance --> child class inherits from a single parent class\n",
    "2. Multiple Inheritance --> child class inherits from more than one parent class\n",
    "3. Multilevel Inheritance --> Grandparent → Parent → Child\n",
    "4. Hierarchical Inheritance --> One parent class has multiple child classes\n",
    "5. Hybrid Inheritance --> A combination of multiple types of inheritance.\n",
    "'''"
   ]
  },
  {
   "cell_type": "code",
   "execution_count": null,
   "id": "c5f3a3b5-9c82-4bb9-8af5-9f747f83bc5b",
   "metadata": {},
   "outputs": [],
   "source": [
    "'''\n",
    "Q-7> What is polymorphism in OOP ?\n",
    "Sol:\n",
    "Polymorphism means \"many forms.\" It allows the same function, method, or operator to behave differently based on the object calling it. \n",
    "This helps in writing flexible and reusable code.\n",
    "Types:\n",
    "1. Method Overriding (Runtime Polymorphism)\n",
    "2.Method Overloading (Compile-time Polymorphism)\n",
    "'''"
   ]
  },
  {
   "cell_type": "code",
   "execution_count": null,
   "id": "bf955f66-6992-446d-8055-b9a1d717044d",
   "metadata": {},
   "outputs": [],
   "source": [
    "'''\n",
    "Q-8> How is encapsulation achieved in Python ?\n",
    "Sol:\n",
    "It restricts direct access to data by hiding the implementation details and controlling access to attributes via methods.\n",
    "Benifits :\n",
    "1. Data Hiding\n",
    "2. Data Protection\n",
    "3. Code Maintainability\n",
    "'''"
   ]
  },
  {
   "cell_type": "code",
   "execution_count": null,
   "id": "83ef9b39-2379-4ac0-8efb-9871466dcd1d",
   "metadata": {},
   "outputs": [],
   "source": [
    "'''\n",
    "Q-9> What is a constructor in Python?\n",
    "Sol:\n",
    "It is a special method in a class that automatically gets called when an object is created. It is used to initialize attributes of a class.\n",
    "Ex: __init__()\n",
    "code sippnet:\n",
    "class Employee:\n",
    "    def __init__(self, name, salary): --------> constructor \n",
    "        self.name = name\n",
    "        self.salary = salary\n",
    "Type:\n",
    "1. Default Constructor\n",
    "2. Parameterized Constructor\n",
    "3. Constructor with Default Arguments\n",
    "'''"
   ]
  },
  {
   "cell_type": "code",
   "execution_count": null,
   "id": "43dad69c-4e2e-488a-a0e8-976a131dd9f3",
   "metadata": {},
   "outputs": [],
   "source": [
    "'''\n",
    "Q-10>  What are class and static methods in Python ?\n",
    "Sol:\n",
    "Class Methods:\n",
    "1. A class method works with the class itself, not with instances\n",
    "2. It modifies class variables shared among all objects.\n",
    "3. Uses @classmethod decorator and takes cls as the first argument\n",
    "Static Methods:\n",
    "1. A static method does not modify class or instance variables\n",
    "2. It is a utility function that belongs to a class but does not need self or cls\n",
    "3. Uses the @staticmethod decorator\n",
    "'''"
   ]
  },
  {
   "cell_type": "code",
   "execution_count": 5,
   "id": "d59b52b8-c4b9-478f-8ab3-b338fe32f843",
   "metadata": {},
   "outputs": [
    {
     "name": "stdout",
     "output_type": "stream",
     "text": [
      "Hi\n",
      "Hello ! welcome to automation dept, BOB!\n",
      "\n",
      "\n",
      "38\n",
      "99\n",
      "\n",
      "\n",
      "Integer display: 12\n",
      "List display: [45, 38]\n",
      "display: Alice\n"
     ]
    }
   ],
   "source": [
    "'''\n",
    "Q-11> What is method overloading in Python ?\n",
    "Sol:\n",
    "Since Python does not support method overloading directly , but we can achive by defining a method with default values so it can handle \n",
    "different numbers of arguments.\n",
    "Ex-1:\n",
    "'''\n",
    "class Emp:\n",
    "    def greet(self, name=None):\n",
    "        if name:\n",
    "            print(f\"Hello ! welcome to automation dept, {name}!\")\n",
    "        else:\n",
    "            print(\"Hi\")\n",
    "obj = Emp()\n",
    "obj.greet()       \n",
    "obj.greet(\"BOB\") \n",
    "\n",
    "'''\n",
    "Ex-2: Using *args --> variable-length positional arguments  and **kwargs -->variable-length keyword arguments.\n",
    "'''\n",
    "print('\\n')\n",
    "class Math:\n",
    "    def add(self, *args):\n",
    "        return sum(args)\n",
    "math = Math()\n",
    "print(math.add(20,18))        \n",
    "print(math.add(30,52,7,10))  \n",
    "\n",
    "'''\n",
    "Ex-3: Using @singledispatch from functools\n",
    "'''\n",
    "print('\\n')\n",
    "from functools import singledispatch\n",
    "@singledispatch\n",
    "def display(value):\n",
    "    print(f\"display: {value}\")\n",
    "@display.register\n",
    "def _(value: int):\n",
    "    print(f\"Integer display: {value}\")\n",
    "@display.register\n",
    "def _(value: list):\n",
    "    print(f\"List display: {value}\")\n",
    "display(12)      \n",
    "display([45, 38])  \n",
    "display(\"Alice\")  \n"
   ]
  },
  {
   "cell_type": "code",
   "execution_count": 21,
   "id": "6d0f3f19-2547-42ab-8f2a-dd6669bc9027",
   "metadata": {},
   "outputs": [
    {
     "name": "stdout",
     "output_type": "stream",
     "text": [
      "\n",
      "\n",
      "Kindly put valid arguments\n",
      "Arguments are: 89\n",
      "Arguments are: 69 12\n",
      "\n",
      "\n",
      "74\n",
      "105\n"
     ]
    }
   ],
   "source": [
    "'''\n",
    "Q-12> What is method overriding in OOP ?\n",
    "Sol:\n",
    "Defining multiple methods with the same name in a class, the last defined method will override the previous ones but Python does not support\n",
    "method overloading but we can achive with different ways \n",
    "Ex:\n",
    "'''\n",
    "'''\n",
    "# this will show an error !!!!!!\n",
    "class Example:\n",
    "    def show(self, a):\n",
    "        print(\"Method with one argument:\", a)\n",
    "\n",
    "    def show(self, a, b):\n",
    "        print(\"Method with two arguments:\", a, b)\n",
    "\n",
    "obj = Example()\n",
    "obj.show(5)  \n",
    "'''\n",
    "'''\n",
    "To achive it there atre following ways:\n",
    "1.Using Default Arguments\n",
    "Ex:\n",
    "'''\n",
    "print('\\n')\n",
    "class A:\n",
    "    def show(self, d=None, b=None):\n",
    "        if d is not None and b is not None:\n",
    "            print(\"Arguments are:\", d, b)\n",
    "        elif d is not None:\n",
    "            print(\"Arguments are:\", d)\n",
    "        else:\n",
    "            print(\"Kindly put valid arguments\")\n",
    "obj = A()\n",
    "obj.show()       \n",
    "obj.show(89)      \n",
    "obj.show(69,12)  \n",
    "'''\n",
    "Ex: Using *args and **kwargs\n",
    "'''\n",
    "print('\\n')\n",
    "class Math:\n",
    "    def add(self, *args):\n",
    "        return sum(args)\n",
    "math = Math()\n",
    "print(math.add(32,42))        \n",
    "print(math.add(7,34,54,10))  \n",
    "\n"
   ]
  },
  {
   "cell_type": "code",
   "execution_count": 31,
   "id": "b93d6cc1-496f-4a11-8ae0-b425bba3a9d7",
   "metadata": {},
   "outputs": [
    {
     "name": "stdout",
     "output_type": "stream",
     "text": [
      "Nural-Network\n",
      "Dept_code generating ...\n",
      "9250\n",
      "Dept_code generated ...\n",
      "Dept_code saved and now deleted...\n"
     ]
    }
   ],
   "source": [
    "'''\n",
    "Q-13>  What is a property decorator in Python ?\n",
    "Sol: \n",
    "A property decorator (@property) in Python is used to define getter, setter,and deleter methods for a class attribute. It allows controlled \n",
    "access to private instance variables while providing a clean, attribute-like interface.\n",
    "Key factor :\n",
    "1.Encapsulates access to an attribute\n",
    "2.Allows computation or validation when getting or setting a value.\n",
    "3.Provides a read-only property if only a getter is defined\n",
    "Ex:\n",
    "'''\n",
    "class Emp:\n",
    "    def __init__(self,name,Dept_code,Dept):\n",
    "        self.name = name\n",
    "        self._Dept_code = Dept_code  \n",
    "        self.Dept=Dept\n",
    "    @property\n",
    "    def Dept_code(self):\n",
    "        print(\"Dept_code generating ...\")\n",
    "        return self._Dept_code\n",
    "    @Dept_code.setter\n",
    "    def Dept_code(self, value):\n",
    "        if value < 0:\n",
    "            raise ValueError(\"Code cannot be negative ! kindly put proper code!\")\n",
    "        print(\"Dept_code generated ...\")\n",
    "        self._Dept_code = value\n",
    "    @Dept_code.deleter\n",
    "    def Dept_code(self):\n",
    "        print(\"Dept_code saved and now deleted...\")\n",
    "        del self._Dept_code\n",
    "p = Emp(\"Bob\",9250,\"Nural-Network\")\n",
    "print(p.Dept)\n",
    "print(p.Dept_code)   \n",
    "p.Dept_code = 30     \n",
    "# p.Dept_code = -5   \n",
    "del p.Dept_code      \n"
   ]
  },
  {
   "cell_type": "code",
   "execution_count": null,
   "id": "734a0b3b-2829-42c2-bb7c-5077d5a8c799",
   "metadata": {},
   "outputs": [],
   "source": [
    "'''\n",
    "Q-14> Why is polymorphism important in OOP ?\n",
    "Sol:\n",
    "As it allows different classes to use the same interface while implementing different behaviors. It enhances flexibility, \n",
    "reusability, and scalability in code.\n",
    "Key:\n",
    "1.Code Reusability\n",
    "2.Extensibility & Scalability\n",
    "3.Simplifies Code\n",
    "4.Encapsulation & Maintainability\n",
    "5.Works with Method Overriding & Duck Typing\n",
    "'''"
   ]
  },
  {
   "cell_type": "code",
   "execution_count": null,
   "id": "62fd41ac-f639-49db-b8c2-6634a744b808",
   "metadata": {},
   "outputs": [],
   "source": [
    "'''\n",
    "Q-15> What is an abstract class in Python ?\n",
    "Sol:\n",
    "An abstract class in Python is a class that cannot be instantiated and serves as a blueprint for other classes. It defines abstract methods \n",
    "that must be implemented by its subclasses.\n",
    "Syntax : \n",
    "from abc import ABC, abstractmethod\n",
    "class A(ABC):\n",
    "    @abstractmethod\n",
    "    ---------------\n",
    "    statements\n",
    "    ---------------\n",
    "'''"
   ]
  },
  {
   "cell_type": "code",
   "execution_count": null,
   "id": "835d77fe-3d97-4c2e-ab70-fb67dcfcb4cf",
   "metadata": {},
   "outputs": [],
   "source": [
    "'''\n",
    "Q-16> What are the advantages of OOP?\n",
    "Sol:\n",
    "Advantages:\n",
    "1.Code Reusability : Inheritance\n",
    "2.Encapsulation : Data Hiding using \"__\"\n",
    "3.Polymorphism : Flexibility & Extensibility\n",
    "4.Modularity\n",
    "5.Maintainability : Easier Debugging & Updates\n",
    "6.Real-World Mapping\n",
    "'''"
   ]
  },
  {
   "cell_type": "code",
   "execution_count": null,
   "id": "5205d952-c17f-450d-b902-62bd9c2edb58",
   "metadata": {},
   "outputs": [],
   "source": [
    "'''\n",
    "Q-17> What is the difference between a class variable and an instance variable ?\n",
    "Sol:\n",
    "Class Variables :\n",
    "1.A variable shared among all instances of a class\n",
    "2.Stored at the class level\n",
    "3.Accessed using ClassName.variable or self.variable\n",
    "4.Used for data that should be shared among all instances\n",
    "Instance Variable:\n",
    "1.A variable unique to each object (instance)\n",
    "2.Stored at the instance level (separate for each object)\n",
    "3.Accessed using self.variable\n",
    "4.Used for data that is unique to each instance\n",
    "'''"
   ]
  },
  {
   "cell_type": "code",
   "execution_count": 37,
   "id": "04e72db9-3788-44d4-92f5-863e6b65b322",
   "metadata": {},
   "outputs": [
    {
     "name": "stdout",
     "output_type": "stream",
     "text": [
      "Method from Parent1\n",
      "Method from Parent2\n",
      "Child class method\n"
     ]
    }
   ],
   "source": [
    "'''\n",
    "Q-18> What is multiple inheritance in Python ?\n",
    "Sol:\n",
    "In this a class can inherit from more than one parent class.\n",
    "Ex:\n",
    "'''\n",
    "class Parent1:\n",
    "    def f1(self):\n",
    "        return \"Method from Parent1\"\n",
    "class Parent2:\n",
    "    def f2(self):\n",
    "        return \"Method from Parent2\"\n",
    "class Child(Parent1, Parent2):  \n",
    "    def c(self):\n",
    "        return \"Child class method\"\n",
    "obj = Child()\n",
    "print(obj.f1())   \n",
    "print(obj.f2())   \n",
    "print(obj.c())  \n"
   ]
  },
  {
   "cell_type": "code",
   "execution_count": 41,
   "id": "ea817a6e-32ba-44ad-ac21-6865c2056637",
   "metadata": {},
   "outputs": [
    {
     "name": "stdout",
     "output_type": "stream",
     "text": [
      "BMW Porche\n",
      "BMW Porche\n",
      "\n",
      "\n",
      "Car('Audi', 'Thar')\n"
     ]
    }
   ],
   "source": [
    "'''\n",
    "Q-19> Explain the purpose of ‘’__str__’ and ‘__repr__’ ‘ methods in Python ?\n",
    "Sol:\n",
    "Both __str__ and __repr__ are special (dunder) methods used to return a string representation of an object.\n",
    "__str__:\n",
    "1.Returns a readable and user-friendly description of the object\n",
    "2.Used when printing objects\n",
    "3.A string suitable for end users, not necessarily evaluable by eval()\n",
    "4.Called by str(object) or print(object).\n",
    "Ex:\n",
    "'''\n",
    "class Car:\n",
    "    def __init__(self, brand, model):\n",
    "        self.brand = brand\n",
    "        self.model = model\n",
    "    def __repr__(self):\n",
    "        return f\"Car('{self.brand}', '{self.model}')\"\n",
    "    def __str__(self):\n",
    "        return f\"{self.brand} {self.model}\"\n",
    "m = Car(\"BMW\",\"Porche\")\n",
    "print(str(m))  \n",
    "print(m)       \n",
    "\n",
    "'''\n",
    "__repr__:\n",
    "1.Returns a string that precisely describes the object\n",
    "2.Used for debugging and logging\n",
    "3.A string that, when passed to eval(), can recreate the object\n",
    "4.Called by repr(object)\n",
    "Ex:\n",
    "'''\n",
    "print('\\n')\n",
    "class Car:\n",
    "    def __init__(self, brand, model):\n",
    "        self.brand = brand\n",
    "        self.model = model\n",
    "    def __repr__(self):\n",
    "        return f\"Car('{self.brand}', '{self.model}')\"\n",
    "m = Car(\"Audi\",\"Thar\")\n",
    "print(repr(m))  \n"
   ]
  },
  {
   "cell_type": "code",
   "execution_count": 47,
   "id": "5a85a87f-2b14-4ec8-8acc-b3bbdf042591",
   "metadata": {},
   "outputs": [
    {
     "name": "stdout",
     "output_type": "stream",
     "text": [
      "Parent class method\n",
      "Child class method\n"
     ]
    }
   ],
   "source": [
    "'''\n",
    "Q-20> What is the significance of the ‘super()’ function in Python?\n",
    "Sol:\n",
    "This function in Python is used to call methods from a parent inside a child class.\n",
    "Use benifits:\n",
    "1.Eliminates redundant code \n",
    "2.Ensures proper method resolution \n",
    "3. Enhances maintainability\n",
    "Ex:\n",
    "'''\n",
    "class Parent:\n",
    "    def display(self):\n",
    "        print(\"Parent class method\")\n",
    "class Child(Parent):\n",
    "    def display(self):\n",
    "        super().display()  \n",
    "        print(\"Child class method\")\n",
    "obj = Child()\n",
    "obj.display()\n"
   ]
  },
  {
   "cell_type": "code",
   "execution_count": 1,
   "id": "b5fdc5a4-3922-4ec4-ad87-8c03f4d6cd03",
   "metadata": {},
   "outputs": [
    {
     "name": "stdout",
     "output_type": "stream",
     "text": [
      "Object destructor created.\n",
      "Object destructor is being destroyed.\n"
     ]
    }
   ],
   "source": [
    "'''\n",
    "Q-21> What is the significance of the __del__ method in Python ?\n",
    "Sol:\n",
    "__del__ method in Python is a special method known as a destructor.\n",
    "Key feature:\n",
    "1.Automatic Cleanup\n",
    "2.Not Always Guaranteed to Run\n",
    "3.Circular Reference Issue\n",
    "Ex:\n",
    "'''\n",
    "class M:\n",
    "    def __init__(self, name):\n",
    "        self.name = name\n",
    "        print(f\"Object {self.name} created.\")\n",
    "    def __del__(self):\n",
    "        print(f\"Object {self.name} is being destroyed.\")\n",
    "\n",
    "obj = M(\"destructor\")\n",
    "del obj  \n"
   ]
  },
  {
   "cell_type": "code",
   "execution_count": null,
   "id": "0f44f40d-2676-49e0-8f0a-099626e2350e",
   "metadata": {},
   "outputs": [],
   "source": [
    "'''\n",
    "Q-22>  What is the difference between @staticmethod and @classmethod in Python ?\n",
    "Sol:\n",
    "@staticmethod:\n",
    "1.Does not take 'self'.\n",
    "2.Does not take cls\n",
    "3.Does not modifies class\n",
    "4.Does not access instance\n",
    "5.Utility functions is the use\n",
    "@classmethod:\n",
    "1.Does not take 'self'\n",
    "2.Does take cls\n",
    "3.Does modifies class\n",
    "4.Does not access instance\n",
    "5.Class-level operations is the use\n",
    "'''"
   ]
  },
  {
   "cell_type": "code",
   "execution_count": 23,
   "id": "d3bbaf0a-fe34-4df4-9c4c-f6c0f55d5945",
   "metadata": {},
   "outputs": [
    {
     "name": "stdout",
     "output_type": "stream",
     "text": [
      "----------------------------Task Issue for the following companies !!!!!!!!!------------------------------\n",
      "Electricity Product\n",
      "Aluminium Product\n",
      "Transformer Product\n",
      "TELECOM Produc &Services\n",
      "\n",
      "\n",
      "--------------------------Compile-time Polymorphism-------------------------------\n",
      "121\n",
      "100\n",
      "\n",
      "\n",
      "-------------------------------------Polymorphism with Functions--------------------------------\n",
      "Run in space\n",
      "Flying in within atmosphere\n"
     ]
    }
   ],
   "source": [
    "'''\n",
    "Q-23>  How does polymorphism work in Python with inheritance?\n",
    "Sol:\n",
    "Polymorphism in Python allows objects of different classes to be treated as objects of a common superclass.\n",
    "It enables:\n",
    "1.Method Overriding (Runtime Polymorphism)\n",
    "ex:\n",
    "'''\n",
    "class Company:\n",
    "    def task(self):\n",
    "        return \"----------------------------Task Issue for the following companies !!!!!!!!!------------------------------\"\n",
    "class BHEL(Company):\n",
    "    def task(self):\n",
    "        return \"Electricity Product\"\n",
    "class NALCO(Company):\n",
    "    def task(self):\n",
    "        return \"Aluminium Product\"\n",
    "class POWER_GRIDE(Company):\n",
    "    def task(self):\n",
    "        return \"Transformer Product\"\n",
    "class BSNL(Company):\n",
    "    def task(self):\n",
    "        return \"TELECOM Produc &Services\"\n",
    "Com = [Company(),BHEL(),NALCO(),POWER_GRIDE(),BSNL()]\n",
    "for i in Com:\n",
    "    print(i.task())  \n",
    "'''\n",
    "2.Method Overloading (Compile-time Polymorphism)\n",
    "Ex:\n",
    "'''\n",
    "print('\\n')\n",
    "print(\"--------------------------Compile-time Polymorphism-------------------------------\")\n",
    "class Arithmetic:\n",
    "    def add(self, a, b, c=0):\n",
    "        return a + b + c  \n",
    "obj = Arithmetic()\n",
    "print(obj.add(32,89))      \n",
    "print(obj.add(56,32,12))   \n",
    "'''\n",
    "3.Polymorphism with Functions\n",
    "Ex:\n",
    "'''\n",
    "print('\\n')\n",
    "print(\"-------------------------------------Polymorphism with Functions--------------------------------\")\n",
    "class Rocket:\n",
    "    def fly(self):\n",
    "        return \"Run in space\"\n",
    "class Plain:\n",
    "    def fly(self):\n",
    "        return \"Flying in within atmosphere\"\n",
    "def Driving(entity):\n",
    "    print(entity.fly())\n",
    "Driving(Rocket())       \n",
    "Driving(Plain())   \n"
   ]
  },
  {
   "cell_type": "code",
   "execution_count": 35,
   "id": "58c0ee00-a940-40e9-80a4-27c514ea4730",
   "metadata": {},
   "outputs": [
    {
     "name": "stdout",
     "output_type": "stream",
     "text": [
      "The company Nalco fullform is National Aluminium Ltc.Corp having 7.8 points\n"
     ]
    },
    {
     "data": {
      "text/plain": [
       "<__main__.Company at 0x211cb871eb0>"
      ]
     },
     "execution_count": 35,
     "metadata": {},
     "output_type": "execute_result"
    }
   ],
   "source": [
    "'''\n",
    "Q-24> What is method chaining in Python OOP ?\n",
    "Sol:\n",
    "Method chaining is a technique where multiple methods are called on the same object in a single statement.\n",
    "Ex:\n",
    "'''\n",
    "class Company:\n",
    "    def __init__(self, name):\n",
    "        self.name = name\n",
    "        self.actions = []    \n",
    "    def fullform(self):\n",
    "        self.actions.append(\"National Aluminium Ltc.Corp\")\n",
    "        return self  \n",
    "    def Stock(self):\n",
    "        self.actions.append(\" 7.8 points\")\n",
    "        return self  \n",
    "    def show_actions(self):\n",
    "        print(f\"The company {self.name} fullform is \" + \" having\".join(self.actions))\n",
    "        return self\n",
    "p = Company(\"Nalco\")\n",
    "p.fullform().Stock().show_actions()\n"
   ]
  },
  {
   "cell_type": "code",
   "execution_count": 39,
   "id": "ecf2ad43-c272-4abe-a2bf-6ee3d5bd752b",
   "metadata": {},
   "outputs": [
    {
     "name": "stdout",
     "output_type": "stream",
     "text": [
      "4\n",
      "16\n"
     ]
    }
   ],
   "source": [
    "'''\n",
    "Q-25>  What is the purpose of the __call__ method in Python ?\n",
    "Sol:\n",
    "This method allows an instance of a class to be called as a function. This makes objects behave like functions while still maintaining their state.\n",
    "workings:\n",
    "1.Define __call__ inside a class\n",
    "2.Create an instance of the class\n",
    "3.Call the instance like a function, and Python automatically invokes __call__.\n",
    "Ex:\n",
    "'''\n",
    "class Mul:\n",
    "    def __init__(self, factor):\n",
    "        self.factor = factor\n",
    "    def __call__(self, value):\n",
    "        return value**self.factor\n",
    "A = Mul(2)\n",
    "B = Mul(4)\n",
    "print(A(2))  \n",
    "print(B(2))  \n"
   ]
  },
  {
   "cell_type": "code",
   "execution_count": null,
   "id": "dda4bab0-03ae-4f04-a627-b3feb89a9338",
   "metadata": {},
   "outputs": [],
   "source": [
    "#------------------------------------------------------Practical Question---------------------------------------------------"
   ]
  },
  {
   "cell_type": "code",
   "execution_count": 1,
   "id": "67cbb0a0-f53e-4866-af76-32a5aba495b9",
   "metadata": {},
   "outputs": [
    {
     "name": "stdout",
     "output_type": "stream",
     "text": [
      "Animal That Bark !!!\n",
      "Bark!\n"
     ]
    }
   ],
   "source": [
    "'''\n",
    "Q-1>  Create a parent class Animal with a method speak() that prints a generic message. Create a child class Dog\n",
    "that overrides the speak() method to print \"Bark!\"?\n",
    "Sol: \n",
    "'''\n",
    "class Animal:\n",
    "    def speak(self):\n",
    "        print(\"Animal That Bark !!!\")\n",
    "class Dog(Animal):\n",
    "    def speak(self):\n",
    "        print(\"Bark!\")\n",
    "animal = Animal()\n",
    "animal.speak()  \n",
    "dog = Dog()\n",
    "dog.speak()  "
   ]
  },
  {
   "cell_type": "code",
   "execution_count": 3,
   "id": "242f42ed-cfe1-43b7-a69a-af64a89e0c3d",
   "metadata": {},
   "outputs": [
    {
     "name": "stdout",
     "output_type": "stream",
     "text": [
      " Area of Circle : 5026.56\n",
      "Area of Rectangle: 792\n"
     ]
    }
   ],
   "source": [
    "'''\n",
    "Q-2>  Write a program to create an abstract class Shape with a method area(). Derive classes Circle and Rectangle\n",
    "from it and implement the area() method in both.\n",
    "Sol:\n",
    "'''\n",
    "from abc import ABC, abstractmethod\n",
    "class Shape(ABC):\n",
    "    @abstractmethod\n",
    "    def area(self):\n",
    "        pass\n",
    "class Circle(Shape):\n",
    "    def __init__(self, radius):\n",
    "        self.radius = radius    \n",
    "    def area(self):\n",
    "        return 3.1416 * self.radius * self.radius\n",
    "class Rectangle(Shape):\n",
    "    def __init__(self, length, width):\n",
    "        self.length = length\n",
    "        self.width = width\n",
    "    def area(self):\n",
    "        return self.length * self.width\n",
    "circle = Circle(40)\n",
    "print(\" Area of Circle :\", circle.area())  \n",
    "rectangle = Rectangle(33, 24)\n",
    "print(\"Area of Rectangle:\", rectangle.area())  "
   ]
  },
  {
   "cell_type": "code",
   "execution_count": 5,
   "id": "0ff1aad3-4f49-443c-ab5d-686bcd6038d9",
   "metadata": {},
   "outputs": [
    {
     "name": "stdout",
     "output_type": "stream",
     "text": [
      "Vehicle Type: General Vehicle\n",
      "Vehicle Type: Car\n",
      "Car Brand: Audi, Model: Porche\n",
      "Vehicle Type: Car\n",
      "Car Brand: Thar, Model: Model 6.2\n",
      "Battery Capacity: 250 kWh\n"
     ]
    }
   ],
   "source": [
    "'''\n",
    "Q-3> Implement a multi-level inheritance scenario where a class Vehicle has an attribute type. Derive a class Car\n",
    "and further derive a class ElectricCar that adds a battery attribute. \n",
    "Sol:\n",
    "'''\n",
    "class Vehicle:\n",
    "    def __init__(self,vehicle_type):\n",
    "        self.vehicle_type = vehicle_type    \n",
    "    def display_type(self):\n",
    "        print(f\"Vehicle Type: {self.vehicle_type}\")\n",
    "class Car(Vehicle):\n",
    "    def __init__(self, brand, model, vehicle_type=\"Car\"):\n",
    "        super().__init__(vehicle_type)\n",
    "        self.brand = brand\n",
    "        self.model = model    \n",
    "    def display_car_info(self):\n",
    "        print(f\"Car Brand: {self.brand}, Model: {self.model}\")\n",
    "class ElectricCar(Car):\n",
    "    def __init__(self, brand, model, battery_capacity):\n",
    "        super().__init__(brand, model)\n",
    "        self.battery_capacity = battery_capacity    \n",
    "    def display_battery_info(self):\n",
    "        print(f\"Battery Capacity: {self.battery_capacity} kWh\")\n",
    "vehicle = Vehicle(\"General Vehicle\")\n",
    "vehicle.display_type()\n",
    "car = Car(\"Audi\",\"Porche\")\n",
    "car.display_type()\n",
    "car.display_car_info()\n",
    "electric_car = ElectricCar(\"Thar\",\"Model 6.2\",250)\n",
    "electric_car.display_type()\n",
    "electric_car.display_car_info()\n",
    "electric_car.display_battery_info()"
   ]
  },
  {
   "cell_type": "code",
   "execution_count": 11,
   "id": "9779bd30-fe09-41fe-bdd8-c98bc29071e7",
   "metadata": {},
   "outputs": [
    {
     "name": "stdout",
     "output_type": "stream",
     "text": [
      "Sparrow can fly.\n",
      "Penguins swim excellently but can't able to fly\n"
     ]
    }
   ],
   "source": [
    "'''\n",
    "Q-4>  Demonstrate polymorphism by creating a base class Bird with a method fly(). Create two derived classes\n",
    "Sparrow and Penguin that override the fly() method.\n",
    "Sol:\n",
    "'''\n",
    "class Bird:\n",
    "    def fly(self):\n",
    "        print(\"Those birds that can fly.\")\n",
    "class Sparrow(Bird):\n",
    "    def fly(self):\n",
    "        print(\"Sparrow can fly.\")\n",
    "class Penguin(Bird):\n",
    "    def fly(self):\n",
    "        print(\"Penguins swim excellently but can't able to fly\")\n",
    "def display(Bird):\n",
    "    Bird.fly()\n",
    "b1 = Sparrow()\n",
    "b2 = Penguin()\n",
    "display(b1)  \n",
    "display(b2)  \n"
   ]
  },
  {
   "cell_type": "code",
   "execution_count": 15,
   "id": "833df391-9df8-4206-849f-36a154edeb9d",
   "metadata": {},
   "outputs": [
    {
     "name": "stdout",
     "output_type": "stream",
     "text": [
      "Deposited: $10000\n",
      "Withdrawn: $4500\n",
      "Current Balance: 65500\n"
     ]
    }
   ],
   "source": [
    "'''\n",
    "Q-5> Write a program to demonstrate encapsulation by creating a class BankAccount with private attributes\n",
    "balance and methods to deposit, withdraw, and check balance?\n",
    "Sol:\n",
    "'''\n",
    "class BankAccount:\n",
    "    def __init__(self, initial_balance=0):\n",
    "        self.__balance = initial_balance      \n",
    "    def deposit(self, amount):\n",
    "        if amount > 0:\n",
    "            self.__balance += amount\n",
    "            print(f\"Deposited: ${amount}\")\n",
    "        else:\n",
    "            print(\"Deposit amount must be positive.\")\n",
    "    def withdraw(self, amount):\n",
    "        if 0 < amount <= self.__balance:\n",
    "            self.__balance -= amount\n",
    "            print(f\"Withdrawn: ${amount}\")\n",
    "        else:\n",
    "            print(\"Insufficient funds or invalid amount !!!!\")\n",
    "    def get_balance(self):\n",
    "        return self.__balance\n",
    "account = BankAccount(60000)\n",
    "account.deposit(10000)\n",
    "account.withdraw(4500)\n",
    "print(\"Current Balance:\", account.get_balance())"
   ]
  },
  {
   "cell_type": "code",
   "execution_count": 17,
   "id": "47a2ca27-a44a-4a96-afd6-cde86da64502",
   "metadata": {},
   "outputs": [
    {
     "name": "stdout",
     "output_type": "stream",
     "text": [
      "Guitar sound !\n",
      "Playing wiyh the piano!\n"
     ]
    }
   ],
   "source": [
    "'''\n",
    "Q-6>  Demonstrate runtime polymorphism using a method play() in a base class Instrument. Derive classes Guitar\n",
    "and Piano that implement their own version of play().\n",
    "Sol:\n",
    "'''\n",
    "class Instrument:\n",
    "    def play(self):\n",
    "        print(\"Music played by an instrumnet\")\n",
    "class Guitar(Instrument):\n",
    "    def play(self):\n",
    "        print(\"Guitar sound !\")\n",
    "class Piano(Instrument):\n",
    "    def play(self):\n",
    "        print(\"Playing wiyh the piano!\")\n",
    "def perform(instrument):\n",
    "    instrument.play()\n",
    "guitar = Guitar()\n",
    "piano = Piano()\n",
    "perform(guitar)  \n",
    "perform(piano)   "
   ]
  },
  {
   "cell_type": "code",
   "execution_count": 21,
   "id": "1f655ace-2bbb-4f25-a12d-4bd114001377",
   "metadata": {},
   "outputs": [
    {
     "name": "stdout",
     "output_type": "stream",
     "text": [
      "Sum is : 45\n",
      "Difference is : 30\n"
     ]
    }
   ],
   "source": [
    "'''\n",
    "Q-7>  Create a class MathOperations with a class method add_numbers() to add two numbers and a static\n",
    "method subtract_numbers() to subtract two numbers.\n",
    "Sol:\n",
    "'''\n",
    "class MathOperations:\n",
    "    @classmethod\n",
    "    def add_numbers(cls,a,b):\n",
    "        return a+b    \n",
    "    @staticmethod\n",
    "    def subtract_numbers(a, b):\n",
    "        return a-b\n",
    "res1 = MathOperations.add_numbers(30,15)\n",
    "print(\"Sum is :\",res1)  \n",
    "res2 = MathOperations.subtract_numbers(45,15)\n",
    "print(\"Difference is :\",res2) "
   ]
  },
  {
   "cell_type": "code",
   "execution_count": 25,
   "id": "99748930-9e5c-4399-875f-444598acc620",
   "metadata": {},
   "outputs": [
    {
     "name": "stdout",
     "output_type": "stream",
     "text": [
      "Total numbers of Persons are : 6\n"
     ]
    }
   ],
   "source": [
    "'''\n",
    "Q-8>  Implement a class Person with a class method to count the total number of persons created .\n",
    "Sol:\n",
    "'''\n",
    "class Person:\n",
    "    count = 0  \n",
    "    def __init__(self,name):\n",
    "        self.name = name\n",
    "        Person.count += 1    \n",
    "    @classmethod\n",
    "    def get_person_count(cls):\n",
    "        return cls.count\n",
    "p1 = Person(\"Sumit\")\n",
    "p2 = Person(\"Shilpa\")\n",
    "p3 = Person(\"Rajesh\")\n",
    "p4 = Person(\"Shruti\")\n",
    "p5 = Person(\"Srinivas\")\n",
    "p6 = Person(\"Rema\")\n",
    "print(\"Total numbers of Persons are :\", Person.get_person_count())"
   ]
  },
  {
   "cell_type": "code",
   "execution_count": 27,
   "id": "075dfe4d-f6d0-41cb-a753-0c46c28f019f",
   "metadata": {},
   "outputs": [
    {
     "name": "stdout",
     "output_type": "stream",
     "text": [
      "3/9\n",
      "5/10\n",
      "45/345\n"
     ]
    }
   ],
   "source": [
    "'''\n",
    "Q-9>  Write a class Fraction with attributes numerator and denominator. Override the str method to display the\n",
    "fraction as \"numerator/denominator\".\n",
    "Sol:\n",
    "'''\n",
    "class Fraction:\n",
    "    def __init__(self, numerator,denominator):\n",
    "        if denominator == 0:\n",
    "            raise ValueError(\"Put valid denominator!!\")\n",
    "        self.numerator = numerator\n",
    "        self.denominator = denominator\n",
    "    def __str__(self):\n",
    "        return f\"{self.numerator}/{self.denominator}\"\n",
    "f1 = Fraction(3,9)\n",
    "print(f1)  \n",
    "f2 = Fraction(5,10)\n",
    "print(f2)\n",
    "f3 = Fraction(45,345)\n",
    "print(f3)"
   ]
  },
  {
   "cell_type": "code",
   "execution_count": 29,
   "id": "bb8093e5-e8ab-49c0-bc7d-9d03540a3f05",
   "metadata": {},
   "outputs": [
    {
     "name": "stdout",
     "output_type": "stream",
     "text": [
      "(60,115)\n"
     ]
    }
   ],
   "source": [
    "'''\n",
    "Q-10> Demonstrate operator overloading by creating a class Vector and overriding the add method to add two\n",
    "vectors.\n",
    "Sol:\n",
    "'''\n",
    "class Vector:\n",
    "    def __init__(self,x,y):\n",
    "        self.x = x\n",
    "        self.y = y    \n",
    "    def __add__(self,other):\n",
    "        if isinstance(other,Vector):\n",
    "            return Vector(self.x + other.x,self.y + other.y)\n",
    "        raise TypeError(\"Operand must be an instance of Vector\")    \n",
    "    def __str__(self):\n",
    "        return f\"({self.x},{self.y})\"\n",
    "v1 = Vector(44,92)\n",
    "v2 = Vector(16,23)\n",
    "v3 = v1+v2  \n",
    "print(v3)  "
   ]
  },
  {
   "cell_type": "code",
   "execution_count": 31,
   "id": "f203687c-9f92-4009-b13d-83236efd0f2a",
   "metadata": {},
   "outputs": [
    {
     "name": "stdout",
     "output_type": "stream",
     "text": [
      "Hello, my name is Jenifer and I am 26 years old.\n",
      "Hello, my name is Brad and I am 32 years old.\n",
      "Hello, my name is Chang and I am 19 years old.\n",
      "Hello, my name is Luei and I am 39 years old.\n"
     ]
    }
   ],
   "source": [
    "'''\n",
    "Q-11> Create a class Person with attributes name and age. Add a method greet() that prints \"Hello, my name is\n",
    "{name} and I am {age} years old ?\n",
    "Sol:\n",
    "'''\n",
    "class Person:\n",
    "    def __init__(self,name,age):\n",
    "        self.name = name\n",
    "        self.age = age    \n",
    "    def greet(self):\n",
    "        print(f\"Hello, my name is {self.name} and I am {self.age} years old.\")\n",
    "p1 = Person(\"Jenifer\",26)\n",
    "p1.greet()  \n",
    "p2 = Person(\"Brad\",32)\n",
    "p2.greet()\n",
    "p3 = Person(\"Chang\",19)\n",
    "p3.greet()\n",
    "p4 = Person(\"Luei\",39)\n",
    "p4.greet()"
   ]
  },
  {
   "cell_type": "code",
   "execution_count": 37,
   "id": "d2eb0914-38a2-41f8-a404-ceecb3ad1852",
   "metadata": {},
   "outputs": [
    {
     "name": "stdout",
     "output_type": "stream",
     "text": [
      "Bob's Average Grade: 80.75\n",
      "Chang's Average Grade: 78.5\n"
     ]
    }
   ],
   "source": [
    "'''\n",
    "Q-12> Implement a class Student with attributes name and grades. Create a method average_grade() to compute\n",
    "the average of the grades.\n",
    "Sol:\n",
    "'''\n",
    "class Student:\n",
    "    def __init__(self,name,grades):\n",
    "        self.name = name\n",
    "        self.grades = grades      \n",
    "    def average_grade(self):\n",
    "        if self.grades:\n",
    "            return sum(self.grades)/len(self.grades)\n",
    "        return 0\n",
    "st1 = Student(\"Bob\", [65,98,87,73])\n",
    "print(f\"{st1.name}'s Average Grade: {st1.average_grade()}\")  \n",
    "st2 = Student(\"Chang\", [100,99,43,72])\n",
    "print(f\"{st2.name}'s Average Grade: {st2.average_grade()}\")  "
   ]
  },
  {
   "cell_type": "code",
   "execution_count": 48,
   "id": "8f129e78-dbd6-4ce0-bbe3-f380a762b8c1",
   "metadata": {},
   "outputs": [
    {
     "name": "stdout",
     "output_type": "stream",
     "text": [
      "Rectangle Area: 3015\n"
     ]
    }
   ],
   "source": [
    "'''\n",
    "Q-13>  Create a class Rectangle with methods set_dimensions() to set the dimensions and area() to calculate the\n",
    "area.\n",
    "Sol:\n",
    "'''\n",
    "class Rectangle:\n",
    "    def __init__(self,length=0,width=0):\n",
    "        self.length = length\n",
    "        self.width = width    \n",
    "    def set_dimensions(self,length,width):\n",
    "        self.length = length\n",
    "        self.width = width    \n",
    "    def area(self):\n",
    "        return self.length*self.width\n",
    "rect = Rectangle()\n",
    "rect.set_dimensions(45, 67)\n",
    "print(\"Rectangle Area:\", rect.area())"
   ]
  },
  {
   "cell_type": "code",
   "execution_count": 50,
   "id": "909c202a-c86a-4a12-b380-771a1502da8f",
   "metadata": {},
   "outputs": [
    {
     "name": "stdout",
     "output_type": "stream",
     "text": [
      "Dang's Salary: $56088\n",
      "Bob's Salary: $59290\n"
     ]
    }
   ],
   "source": [
    "'''\n",
    "Q-14>  Create a class Employee with a method calculate_salary() that computes the salary based on hours worked\n",
    "and hourly rate. Create a derived class Manager that adds a bonus to the salary.\n",
    "Sol:\n",
    "'''\n",
    "class Employee:\n",
    "    def __init__(self,name,hours_worked,hourly_rate):\n",
    "        self.name = name\n",
    "        self.hours_worked = hours_worked\n",
    "        self.hourly_rate = hourly_rate    \n",
    "    def calculate_salary(self):\n",
    "        return self.hours_worked * self.hourly_rate\n",
    "class Manager(Employee):\n",
    "    def __init__(self,name,hours_worked,hourly_rate,bonus):\n",
    "        super().__init__(name,hours_worked,hourly_rate)\n",
    "        self.bonus = bonus    \n",
    "    def calculate_salary(self):\n",
    "        return super().calculate_salary() + self.bonus\n",
    "employee = Employee(\"Dang\",456,123)\n",
    "print(f\"{employee.name}'s Salary: ${employee.calculate_salary()}\")  \n",
    "manager = Manager(\"Bob\", 670,87,1000)\n",
    "print(f\"{manager.name}'s Salary: ${manager.calculate_salary()}\") "
   ]
  },
  {
   "cell_type": "code",
   "execution_count": 52,
   "id": "1259133d-2973-45a1-91ef-4a690f2fb026",
   "metadata": {},
   "outputs": [
    {
     "name": "stdout",
     "output_type": "stream",
     "text": [
      "Total Price for Rx1243-Robot: $45000000\n",
      "Total Price for EW-890 Robot: $60000000\n"
     ]
    }
   ],
   "source": [
    "'''\n",
    "Q-15> Create a class Product with attributes name, price, and quantity. Implement a method total_price() that\n",
    "calculates the total price of the product.\n",
    "Sol:\n",
    "'''\n",
    "class Product:\n",
    "    def __init__(self,name,price,quantity):\n",
    "        self.name = name\n",
    "        self.price = price\n",
    "        self.quantity = quantity    \n",
    "    def total_price(self):\n",
    "        return self.price * self.quantity\n",
    "product1 = Product(\"Rx1243-Robot\",2500000,18)\n",
    "print(f\"Total Price for {product1.name}: ${product1.total_price()}\")  \n",
    "product2 = Product(\"EW-890 Robot\",6000000,10)\n",
    "print(f\"Total Price for {product2.name}: ${product2.total_price()}\")"
   ]
  },
  {
   "cell_type": "code",
   "execution_count": 54,
   "id": "d2cae59a-df58-47e1-a808-233db2cea72a",
   "metadata": {},
   "outputs": [
    {
     "name": "stdout",
     "output_type": "stream",
     "text": [
      "Cow sound like: M0000000!\n",
      "Sheep sound like: MAAAAAA!\n"
     ]
    }
   ],
   "source": [
    "'''\n",
    "Q-16>  Create a class Animal with an abstract method sound(). Create two derived classes Cow and Sheep that\n",
    "implement the sound() method.\n",
    "Sol:\n",
    "'''\n",
    "class Cow(Animal):\n",
    "    def sound(self):\n",
    "        return \"M0000000!\"\n",
    "class Sheep(Animal):\n",
    "    def sound(self):\n",
    "        return \"MAAAAAA!\"\n",
    "cow = Cow()\n",
    "sheep = Sheep()\n",
    "print(\"Cow sound like:\", cow.sound())  \n",
    "print(\"Sheep sound like:\", sheep.sound())"
   ]
  },
  {
   "cell_type": "code",
   "execution_count": 56,
   "id": "bc2c3c1c-68a1-4327-8120-b8ad9378dd48",
   "metadata": {},
   "outputs": [
    {
     "name": "stdout",
     "output_type": "stream",
     "text": [
      "Book Info: The Last Night by Wiiliam-Shakesphere, published in 1801\n"
     ]
    }
   ],
   "source": [
    "'''\n",
    "Q-17> Create a class Book with attributes title, author, and year_published. Add a method get_book_info() that\n",
    "returns a formatted string with the book's details.\n",
    "Sol:\n",
    "'''\n",
    "class Book:\n",
    "    def __init__(self,title,author,year_published):\n",
    "        self.title = title\n",
    "        self.author = author\n",
    "        self.year_published = year_published    \n",
    "    def get_book_info(self):\n",
    "        return f\"{self.title} by {self.author}, published in {self.year_published}\"\n",
    "book = Book(\"The Last Night\",\"Wiiliam-Shakesphere\",1801)\n",
    "print(\"Book Info:\",book.get_book_info())"
   ]
  },
  {
   "cell_type": "code",
   "execution_count": 64,
   "id": "2ef5dc9c-5f84-454b-af7b-793e5f73eeea",
   "metadata": {},
   "outputs": [
    {
     "name": "stdout",
     "output_type": "stream",
     "text": [
      "House Info: House located at 27B St.Sabestian -Garden,Sector-72,Villi,Mocow, priced at $49807989\n",
      "Mansion Info: Mansion located at 2-y Volokolamsky Driveway, Moscow, priced at $34999870, with 25 rooms\n"
     ]
    }
   ],
   "source": [
    "'''\n",
    "Q-18>  Create a class House with attributes address and price. Create a derived class Mansion that adds an\n",
    "attribute number_of_rooms.\n",
    "Sol:\n",
    "'''\n",
    "class House:\n",
    "    def __init__(self,address,price):\n",
    "        self.address = address\n",
    "        self.price = price    \n",
    "    def get_house_info(self):\n",
    "        return f\"House located at {self.address}, priced at ${self.price}\"\n",
    "class Mansion(House):\n",
    "    def __init__(self,address,price,number_of_rooms):\n",
    "        super().__init__(address,price)\n",
    "        self.number_of_rooms = number_of_rooms    \n",
    "    def get_mansion_info(self):\n",
    "        return f\"Mansion located at {self.address}, priced at ${self.price}, with {self.number_of_rooms} rooms\"\n",
    "house = House(\"27B St.Sabestian -Garden,Sector-72,Villi,Mocow\",49807989)\n",
    "print(\"House Info:\",house.get_house_info())  \n",
    "mansion = Mansion(\"2-y Volokolamsky Driveway, Moscow\",34999870,25)\n",
    "print(\"Mansion Info:\",mansion.get_mansion_info())"
   ]
  },
  {
   "cell_type": "code",
   "execution_count": null,
   "id": "ab2b71d2-bfa0-4ee8-adde-b3902804e0b5",
   "metadata": {},
   "outputs": [],
   "source": []
  }
 ],
 "metadata": {
  "kernelspec": {
   "display_name": "Python [conda env:base] *",
   "language": "python",
   "name": "conda-base-py"
  },
  "language_info": {
   "codemirror_mode": {
    "name": "ipython",
    "version": 3
   },
   "file_extension": ".py",
   "mimetype": "text/x-python",
   "name": "python",
   "nbconvert_exporter": "python",
   "pygments_lexer": "ipython3",
   "version": "3.12.7"
  }
 },
 "nbformat": 4,
 "nbformat_minor": 5
}
